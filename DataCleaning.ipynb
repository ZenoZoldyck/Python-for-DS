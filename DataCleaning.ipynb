{
 "cells": [
  {
   "cell_type": "code",
   "execution_count": 2,
   "id": "7b642ae9-b819-4b0f-95a6-7234b9617ad3",
   "metadata": {},
   "outputs": [],
   "source": [
    "import pandas as pd\n",
    "import numpy as np\n",
    "import matplotlib.pyplot as plt"
   ]
  },
  {
   "cell_type": "code",
   "execution_count": 3,
   "id": "5196f0ff-05e0-4212-90b7-0a74218a91a4",
   "metadata": {},
   "outputs": [
    {
     "data": {
      "text/plain": [
       "True"
      ]
     },
     "execution_count": 3,
     "metadata": {},
     "output_type": "execute_result"
    }
   ],
   "source": [
    "pd.isnull(np.nan)"
   ]
  },
  {
   "cell_type": "code",
   "execution_count": 4,
   "id": "619d00d2-6310-4cd8-bcf4-cfc5dcfbeaa9",
   "metadata": {},
   "outputs": [
    {
     "data": {
      "text/plain": [
       "True"
      ]
     },
     "execution_count": 4,
     "metadata": {},
     "output_type": "execute_result"
    }
   ],
   "source": [
    "pd.isna(None)"
   ]
  },
  {
   "cell_type": "code",
   "execution_count": 5,
   "id": "b124db37-1324-45f3-998c-9d2678fa1962",
   "metadata": {},
   "outputs": [
    {
     "data": {
      "text/plain": [
       "True"
      ]
     },
     "execution_count": 5,
     "metadata": {},
     "output_type": "execute_result"
    }
   ],
   "source": [
    "pd.isnull(None)"
   ]
  },
  {
   "cell_type": "code",
   "execution_count": 6,
   "id": "c209026e-420a-4d9b-8694-6497c4c95a0c",
   "metadata": {},
   "outputs": [
    {
     "data": {
      "text/plain": [
       "False"
      ]
     },
     "execution_count": 6,
     "metadata": {},
     "output_type": "execute_result"
    }
   ],
   "source": [
    "pd.notnull(None)"
   ]
  },
  {
   "cell_type": "code",
   "execution_count": 7,
   "id": "c718782e-a149-4f1a-a309-35cedeee32ed",
   "metadata": {},
   "outputs": [
    {
     "data": {
      "text/plain": [
       "False"
      ]
     },
     "execution_count": 7,
     "metadata": {},
     "output_type": "execute_result"
    }
   ],
   "source": [
    "pd.notna(np.nan)"
   ]
  },
  {
   "cell_type": "code",
   "execution_count": 8,
   "id": "e56c0eb7-05d0-4626-8bfd-ae0467d60cc9",
   "metadata": {},
   "outputs": [
    {
     "data": {
      "text/plain": [
       "0    False\n",
       "1    False\n",
       "2     True\n",
       "dtype: bool"
      ]
     },
     "execution_count": 8,
     "metadata": {},
     "output_type": "execute_result"
    }
   ],
   "source": [
    "pd.isnull(pd.Series([1, 1, np.nan]))"
   ]
  },
  {
   "cell_type": "code",
   "execution_count": 9,
   "id": "910fe5ce-d0e2-4833-97c5-8fefa66cbb17",
   "metadata": {},
   "outputs": [
    {
     "data": {
      "text/plain": [
       "3"
      ]
     },
     "execution_count": 9,
     "metadata": {},
     "output_type": "execute_result"
    }
   ],
   "source": [
    "pd.isnull(pd.Series([1, 1, np.nan])).count()"
   ]
  },
  {
   "cell_type": "code",
   "execution_count": 12,
   "id": "3ba59b22-e0d8-45ed-a07b-5fed25850d5f",
   "metadata": {},
   "outputs": [
    {
     "data": {
      "text/plain": [
       "1"
      ]
     },
     "execution_count": 12,
     "metadata": {},
     "output_type": "execute_result"
    }
   ],
   "source": [
    "pd.isnull(pd.Series([1, 1, np.nan])).sum() # returns number of true values"
   ]
  },
  {
   "cell_type": "code",
   "execution_count": 13,
   "id": "e9cd8541-e699-491c-b026-81d59b276ea3",
   "metadata": {},
   "outputs": [
    {
     "data": {
      "text/plain": [
       "2"
      ]
     },
     "execution_count": 13,
     "metadata": {},
     "output_type": "execute_result"
    }
   ],
   "source": [
    "pd.notnull(pd.Series([1, 1, np.nan])).sum() # returns the number of false values"
   ]
  },
  {
   "cell_type": "code",
   "execution_count": 14,
   "id": "6c451c6a-75e4-4af5-9375-a22d62ad25ca",
   "metadata": {},
   "outputs": [
    {
     "data": {
      "text/plain": [
       "0    1.0\n",
       "1    1.0\n",
       "dtype: float64"
      ]
     },
     "execution_count": 14,
     "metadata": {},
     "output_type": "execute_result"
    }
   ],
   "source": [
    " pd.Series([1, 1, np.nan]).dropna()"
   ]
  },
  {
   "cell_type": "code",
   "execution_count": 22,
   "id": "c3b31569-f8cd-4aeb-936f-d6541ecbc367",
   "metadata": {},
   "outputs": [],
   "source": [
    "s = pd.DataFrame({\n",
    "    \"Age\" : [1, 2, 3, 4, np.nan], \n",
    "    \"Height\" : [np.nan, 45, 65, 64, 33], \n",
    "    \"Weight\" : [12, 12, np.nan, 43, 67]\n",
    "})"
   ]
  },
  {
   "cell_type": "code",
   "execution_count": 23,
   "id": "9fa2d3ca-5dd1-4e0a-a8d8-bec0cf78194d",
   "metadata": {},
   "outputs": [
    {
     "data": {
      "text/html": [
       "<div>\n",
       "<style scoped>\n",
       "    .dataframe tbody tr th:only-of-type {\n",
       "        vertical-align: middle;\n",
       "    }\n",
       "\n",
       "    .dataframe tbody tr th {\n",
       "        vertical-align: top;\n",
       "    }\n",
       "\n",
       "    .dataframe thead th {\n",
       "        text-align: right;\n",
       "    }\n",
       "</style>\n",
       "<table border=\"1\" class=\"dataframe\">\n",
       "  <thead>\n",
       "    <tr style=\"text-align: right;\">\n",
       "      <th></th>\n",
       "      <th>Age</th>\n",
       "      <th>Height</th>\n",
       "      <th>Weight</th>\n",
       "    </tr>\n",
       "  </thead>\n",
       "  <tbody>\n",
       "    <tr>\n",
       "      <th>0</th>\n",
       "      <td>1.0</td>\n",
       "      <td>NaN</td>\n",
       "      <td>12.0</td>\n",
       "    </tr>\n",
       "    <tr>\n",
       "      <th>1</th>\n",
       "      <td>2.0</td>\n",
       "      <td>45.0</td>\n",
       "      <td>12.0</td>\n",
       "    </tr>\n",
       "    <tr>\n",
       "      <th>2</th>\n",
       "      <td>3.0</td>\n",
       "      <td>65.0</td>\n",
       "      <td>NaN</td>\n",
       "    </tr>\n",
       "    <tr>\n",
       "      <th>3</th>\n",
       "      <td>4.0</td>\n",
       "      <td>64.0</td>\n",
       "      <td>43.0</td>\n",
       "    </tr>\n",
       "    <tr>\n",
       "      <th>4</th>\n",
       "      <td>NaN</td>\n",
       "      <td>33.0</td>\n",
       "      <td>67.0</td>\n",
       "    </tr>\n",
       "  </tbody>\n",
       "</table>\n",
       "</div>"
      ],
      "text/plain": [
       "   Age  Height  Weight\n",
       "0  1.0     NaN    12.0\n",
       "1  2.0    45.0    12.0\n",
       "2  3.0    65.0     NaN\n",
       "3  4.0    64.0    43.0\n",
       "4  NaN    33.0    67.0"
      ]
     },
     "execution_count": 23,
     "metadata": {},
     "output_type": "execute_result"
    }
   ],
   "source": [
    "s"
   ]
  },
  {
   "cell_type": "code",
   "execution_count": 26,
   "id": "f30280cd-5a51-4568-a26c-dafc1cd02583",
   "metadata": {},
   "outputs": [
    {
     "data": {
      "text/html": [
       "<div>\n",
       "<style scoped>\n",
       "    .dataframe tbody tr th:only-of-type {\n",
       "        vertical-align: middle;\n",
       "    }\n",
       "\n",
       "    .dataframe tbody tr th {\n",
       "        vertical-align: top;\n",
       "    }\n",
       "\n",
       "    .dataframe thead th {\n",
       "        text-align: right;\n",
       "    }\n",
       "</style>\n",
       "<table border=\"1\" class=\"dataframe\">\n",
       "  <thead>\n",
       "    <tr style=\"text-align: right;\">\n",
       "      <th></th>\n",
       "      <th>Age</th>\n",
       "      <th>Height</th>\n",
       "      <th>Weight</th>\n",
       "    </tr>\n",
       "  </thead>\n",
       "  <tbody>\n",
       "    <tr>\n",
       "      <th>0</th>\n",
       "      <td>1.0</td>\n",
       "      <td>0.0</td>\n",
       "      <td>12.0</td>\n",
       "    </tr>\n",
       "    <tr>\n",
       "      <th>1</th>\n",
       "      <td>2.0</td>\n",
       "      <td>45.0</td>\n",
       "      <td>12.0</td>\n",
       "    </tr>\n",
       "    <tr>\n",
       "      <th>2</th>\n",
       "      <td>3.0</td>\n",
       "      <td>65.0</td>\n",
       "      <td>0.0</td>\n",
       "    </tr>\n",
       "    <tr>\n",
       "      <th>3</th>\n",
       "      <td>4.0</td>\n",
       "      <td>64.0</td>\n",
       "      <td>43.0</td>\n",
       "    </tr>\n",
       "    <tr>\n",
       "      <th>4</th>\n",
       "      <td>0.0</td>\n",
       "      <td>33.0</td>\n",
       "      <td>67.0</td>\n",
       "    </tr>\n",
       "  </tbody>\n",
       "</table>\n",
       "</div>"
      ],
      "text/plain": [
       "   Age  Height  Weight\n",
       "0  1.0     0.0    12.0\n",
       "1  2.0    45.0    12.0\n",
       "2  3.0    65.0     0.0\n",
       "3  4.0    64.0    43.0\n",
       "4  0.0    33.0    67.0"
      ]
     },
     "execution_count": 26,
     "metadata": {},
     "output_type": "execute_result"
    }
   ],
   "source": [
    "s.fillna(0)"
   ]
  },
  {
   "cell_type": "code",
   "execution_count": 27,
   "id": "1074aeac-e541-4a53-a88c-2ad6b4f80f39",
   "metadata": {},
   "outputs": [
    {
     "data": {
      "text/html": [
       "<div>\n",
       "<style scoped>\n",
       "    .dataframe tbody tr th:only-of-type {\n",
       "        vertical-align: middle;\n",
       "    }\n",
       "\n",
       "    .dataframe tbody tr th {\n",
       "        vertical-align: top;\n",
       "    }\n",
       "\n",
       "    .dataframe thead th {\n",
       "        text-align: right;\n",
       "    }\n",
       "</style>\n",
       "<table border=\"1\" class=\"dataframe\">\n",
       "  <thead>\n",
       "    <tr style=\"text-align: right;\">\n",
       "      <th></th>\n",
       "      <th>Age</th>\n",
       "      <th>Height</th>\n",
       "      <th>Weight</th>\n",
       "    </tr>\n",
       "  </thead>\n",
       "  <tbody>\n",
       "    <tr>\n",
       "      <th>0</th>\n",
       "      <td>1.0</td>\n",
       "      <td>NaN</td>\n",
       "      <td>12.0</td>\n",
       "    </tr>\n",
       "    <tr>\n",
       "      <th>1</th>\n",
       "      <td>2.0</td>\n",
       "      <td>45.0</td>\n",
       "      <td>12.0</td>\n",
       "    </tr>\n",
       "    <tr>\n",
       "      <th>2</th>\n",
       "      <td>3.0</td>\n",
       "      <td>65.0</td>\n",
       "      <td>12.0</td>\n",
       "    </tr>\n",
       "    <tr>\n",
       "      <th>3</th>\n",
       "      <td>4.0</td>\n",
       "      <td>64.0</td>\n",
       "      <td>43.0</td>\n",
       "    </tr>\n",
       "    <tr>\n",
       "      <th>4</th>\n",
       "      <td>4.0</td>\n",
       "      <td>33.0</td>\n",
       "      <td>67.0</td>\n",
       "    </tr>\n",
       "  </tbody>\n",
       "</table>\n",
       "</div>"
      ],
      "text/plain": [
       "   Age  Height  Weight\n",
       "0  1.0     NaN    12.0\n",
       "1  2.0    45.0    12.0\n",
       "2  3.0    65.0    12.0\n",
       "3  4.0    64.0    43.0\n",
       "4  4.0    33.0    67.0"
      ]
     },
     "execution_count": 27,
     "metadata": {},
     "output_type": "execute_result"
    }
   ],
   "source": [
    "s.fillna(method = \"ffill\")"
   ]
  },
  {
   "cell_type": "code",
   "execution_count": 28,
   "id": "fa28a44e-4a6c-446e-b7d2-08d3c2002ffa",
   "metadata": {},
   "outputs": [
    {
     "data": {
      "text/html": [
       "<div>\n",
       "<style scoped>\n",
       "    .dataframe tbody tr th:only-of-type {\n",
       "        vertical-align: middle;\n",
       "    }\n",
       "\n",
       "    .dataframe tbody tr th {\n",
       "        vertical-align: top;\n",
       "    }\n",
       "\n",
       "    .dataframe thead th {\n",
       "        text-align: right;\n",
       "    }\n",
       "</style>\n",
       "<table border=\"1\" class=\"dataframe\">\n",
       "  <thead>\n",
       "    <tr style=\"text-align: right;\">\n",
       "      <th></th>\n",
       "      <th>Age</th>\n",
       "      <th>Height</th>\n",
       "      <th>Weight</th>\n",
       "    </tr>\n",
       "  </thead>\n",
       "  <tbody>\n",
       "    <tr>\n",
       "      <th>0</th>\n",
       "      <td>1.0</td>\n",
       "      <td>45.0</td>\n",
       "      <td>12.0</td>\n",
       "    </tr>\n",
       "    <tr>\n",
       "      <th>1</th>\n",
       "      <td>2.0</td>\n",
       "      <td>45.0</td>\n",
       "      <td>12.0</td>\n",
       "    </tr>\n",
       "    <tr>\n",
       "      <th>2</th>\n",
       "      <td>3.0</td>\n",
       "      <td>65.0</td>\n",
       "      <td>43.0</td>\n",
       "    </tr>\n",
       "    <tr>\n",
       "      <th>3</th>\n",
       "      <td>4.0</td>\n",
       "      <td>64.0</td>\n",
       "      <td>43.0</td>\n",
       "    </tr>\n",
       "    <tr>\n",
       "      <th>4</th>\n",
       "      <td>NaN</td>\n",
       "      <td>33.0</td>\n",
       "      <td>67.0</td>\n",
       "    </tr>\n",
       "  </tbody>\n",
       "</table>\n",
       "</div>"
      ],
      "text/plain": [
       "   Age  Height  Weight\n",
       "0  1.0    45.0    12.0\n",
       "1  2.0    45.0    12.0\n",
       "2  3.0    65.0    43.0\n",
       "3  4.0    64.0    43.0\n",
       "4  NaN    33.0    67.0"
      ]
     },
     "execution_count": 28,
     "metadata": {},
     "output_type": "execute_result"
    }
   ],
   "source": [
    "s.fillna(method = \"bfill\")"
   ]
  },
  {
   "cell_type": "code",
   "execution_count": 29,
   "id": "d6851a23-9ad3-4f96-a912-e798e3bde93c",
   "metadata": {},
   "outputs": [
    {
     "data": {
      "text/html": [
       "<div>\n",
       "<style scoped>\n",
       "    .dataframe tbody tr th:only-of-type {\n",
       "        vertical-align: middle;\n",
       "    }\n",
       "\n",
       "    .dataframe tbody tr th {\n",
       "        vertical-align: top;\n",
       "    }\n",
       "\n",
       "    .dataframe thead th {\n",
       "        text-align: right;\n",
       "    }\n",
       "</style>\n",
       "<table border=\"1\" class=\"dataframe\">\n",
       "  <thead>\n",
       "    <tr style=\"text-align: right;\">\n",
       "      <th></th>\n",
       "      <th>Age</th>\n",
       "      <th>Height</th>\n",
       "      <th>Weight</th>\n",
       "    </tr>\n",
       "  </thead>\n",
       "  <tbody>\n",
       "    <tr>\n",
       "      <th>0</th>\n",
       "      <td>1.0</td>\n",
       "      <td>1.0</td>\n",
       "      <td>12.0</td>\n",
       "    </tr>\n",
       "    <tr>\n",
       "      <th>1</th>\n",
       "      <td>2.0</td>\n",
       "      <td>45.0</td>\n",
       "      <td>12.0</td>\n",
       "    </tr>\n",
       "    <tr>\n",
       "      <th>2</th>\n",
       "      <td>3.0</td>\n",
       "      <td>65.0</td>\n",
       "      <td>65.0</td>\n",
       "    </tr>\n",
       "    <tr>\n",
       "      <th>3</th>\n",
       "      <td>4.0</td>\n",
       "      <td>64.0</td>\n",
       "      <td>43.0</td>\n",
       "    </tr>\n",
       "    <tr>\n",
       "      <th>4</th>\n",
       "      <td>NaN</td>\n",
       "      <td>33.0</td>\n",
       "      <td>67.0</td>\n",
       "    </tr>\n",
       "  </tbody>\n",
       "</table>\n",
       "</div>"
      ],
      "text/plain": [
       "   Age  Height  Weight\n",
       "0  1.0     1.0    12.0\n",
       "1  2.0    45.0    12.0\n",
       "2  3.0    65.0    65.0\n",
       "3  4.0    64.0    43.0\n",
       "4  NaN    33.0    67.0"
      ]
     },
     "execution_count": 29,
     "metadata": {},
     "output_type": "execute_result"
    }
   ],
   "source": [
    "s.fillna(method = \"ffill\", axis = 1)"
   ]
  },
  {
   "cell_type": "code",
   "execution_count": 30,
   "id": "8c72fa33-3dac-45e1-9a5e-0bfc13c55119",
   "metadata": {},
   "outputs": [
    {
     "data": {
      "text/plain": [
       "array([12., nan, 43., 67.])"
      ]
     },
     "execution_count": 30,
     "metadata": {},
     "output_type": "execute_result"
    }
   ],
   "source": [
    "s[\"Weight\"].unique()"
   ]
  },
  {
   "cell_type": "code",
   "execution_count": 31,
   "id": "f7b124ae-5081-4491-b21d-781bd8c7d031",
   "metadata": {},
   "outputs": [
    {
     "data": {
      "text/plain": [
       "12.0    2\n",
       "43.0    1\n",
       "67.0    1\n",
       "Name: Weight, dtype: int64"
      ]
     },
     "execution_count": 31,
     "metadata": {},
     "output_type": "execute_result"
    }
   ],
   "source": [
    "s[\"Weight\"].value_counts()"
   ]
  },
  {
   "cell_type": "code",
   "execution_count": 39,
   "id": "4191a44c-49eb-486b-9cd3-f65a9fa92b4b",
   "metadata": {},
   "outputs": [
    {
     "data": {
      "text/plain": [
       "0    21.0\n",
       "1    21.0\n",
       "2     NaN\n",
       "3    43.0\n",
       "4    67.0\n",
       "Name: Weight, dtype: float64"
      ]
     },
     "execution_count": 39,
     "metadata": {},
     "output_type": "execute_result"
    }
   ],
   "source": [
    "s[\"Weight\"].replace(12 , 21)"
   ]
  },
  {
   "cell_type": "code",
   "execution_count": 40,
   "id": "9137eaf4-b3c8-488f-a4ed-a6047d4b3947",
   "metadata": {},
   "outputs": [
    {
     "data": {
      "text/plain": [
       "0    23.0\n",
       "1    23.0\n",
       "2     NaN\n",
       "3    43.0\n",
       "4    76.0\n",
       "Name: Weight, dtype: float64"
      ]
     },
     "execution_count": 40,
     "metadata": {},
     "output_type": "execute_result"
    }
   ],
   "source": [
    "s[\"Weight\"].replace({12 : 23, 67 : 76})"
   ]
  },
  {
   "cell_type": "code",
   "execution_count": 41,
   "id": "0cf256c6-1d31-4571-80cc-11224769bce9",
   "metadata": {},
   "outputs": [
    {
     "data": {
      "text/html": [
       "<div>\n",
       "<style scoped>\n",
       "    .dataframe tbody tr th:only-of-type {\n",
       "        vertical-align: middle;\n",
       "    }\n",
       "\n",
       "    .dataframe tbody tr th {\n",
       "        vertical-align: top;\n",
       "    }\n",
       "\n",
       "    .dataframe thead th {\n",
       "        text-align: right;\n",
       "    }\n",
       "</style>\n",
       "<table border=\"1\" class=\"dataframe\">\n",
       "  <thead>\n",
       "    <tr style=\"text-align: right;\">\n",
       "      <th></th>\n",
       "      <th>Age</th>\n",
       "      <th>Height</th>\n",
       "      <th>Weight</th>\n",
       "    </tr>\n",
       "  </thead>\n",
       "  <tbody>\n",
       "    <tr>\n",
       "      <th>0</th>\n",
       "      <td>1.0</td>\n",
       "      <td>NaN</td>\n",
       "      <td>21.0</td>\n",
       "    </tr>\n",
       "    <tr>\n",
       "      <th>1</th>\n",
       "      <td>2.0</td>\n",
       "      <td>54.0</td>\n",
       "      <td>21.0</td>\n",
       "    </tr>\n",
       "    <tr>\n",
       "      <th>2</th>\n",
       "      <td>3.0</td>\n",
       "      <td>65.0</td>\n",
       "      <td>NaN</td>\n",
       "    </tr>\n",
       "    <tr>\n",
       "      <th>3</th>\n",
       "      <td>4.0</td>\n",
       "      <td>64.0</td>\n",
       "      <td>43.0</td>\n",
       "    </tr>\n",
       "    <tr>\n",
       "      <th>4</th>\n",
       "      <td>NaN</td>\n",
       "      <td>33.0</td>\n",
       "      <td>67.0</td>\n",
       "    </tr>\n",
       "  </tbody>\n",
       "</table>\n",
       "</div>"
      ],
      "text/plain": [
       "   Age  Height  Weight\n",
       "0  1.0     NaN    21.0\n",
       "1  2.0    54.0    21.0\n",
       "2  3.0    65.0     NaN\n",
       "3  4.0    64.0    43.0\n",
       "4  NaN    33.0    67.0"
      ]
     },
     "execution_count": 41,
     "metadata": {},
     "output_type": "execute_result"
    }
   ],
   "source": [
    "s.replace({\"Weight\" : {12 : 21}, \"Height\" : {45 : 54}})"
   ]
  },
  {
   "cell_type": "code",
   "execution_count": 43,
   "id": "31aed2bc-8c80-4099-b694-14c0facc1015",
   "metadata": {},
   "outputs": [
    {
     "data": {
      "text/html": [
       "<div>\n",
       "<style scoped>\n",
       "    .dataframe tbody tr th:only-of-type {\n",
       "        vertical-align: middle;\n",
       "    }\n",
       "\n",
       "    .dataframe tbody tr th {\n",
       "        vertical-align: top;\n",
       "    }\n",
       "\n",
       "    .dataframe thead th {\n",
       "        text-align: right;\n",
       "    }\n",
       "</style>\n",
       "<table border=\"1\" class=\"dataframe\">\n",
       "  <thead>\n",
       "    <tr style=\"text-align: right;\">\n",
       "      <th></th>\n",
       "      <th>Age</th>\n",
       "      <th>Height</th>\n",
       "      <th>Weight</th>\n",
       "    </tr>\n",
       "  </thead>\n",
       "  <tbody>\n",
       "    <tr>\n",
       "      <th>3</th>\n",
       "      <td>4.0</td>\n",
       "      <td>64.0</td>\n",
       "      <td>43.0</td>\n",
       "    </tr>\n",
       "  </tbody>\n",
       "</table>\n",
       "</div>"
      ],
      "text/plain": [
       "   Age  Height  Weight\n",
       "3  4.0    64.0    43.0"
      ]
     },
     "execution_count": 43,
     "metadata": {},
     "output_type": "execute_result"
    }
   ],
   "source": [
    "s[s[\"Age\"] > 3]"
   ]
  },
  {
   "cell_type": "code",
   "execution_count": 44,
   "id": "2330e558-c326-4b06-9f11-d06585360e56",
   "metadata": {},
   "outputs": [],
   "source": [
    "s[s[\"Age\"] > 2] = 5"
   ]
  },
  {
   "cell_type": "code",
   "execution_count": 45,
   "id": "d9080a82-6dbd-4e1e-9f55-53365edff3a0",
   "metadata": {},
   "outputs": [
    {
     "data": {
      "text/html": [
       "<div>\n",
       "<style scoped>\n",
       "    .dataframe tbody tr th:only-of-type {\n",
       "        vertical-align: middle;\n",
       "    }\n",
       "\n",
       "    .dataframe tbody tr th {\n",
       "        vertical-align: top;\n",
       "    }\n",
       "\n",
       "    .dataframe thead th {\n",
       "        text-align: right;\n",
       "    }\n",
       "</style>\n",
       "<table border=\"1\" class=\"dataframe\">\n",
       "  <thead>\n",
       "    <tr style=\"text-align: right;\">\n",
       "      <th></th>\n",
       "      <th>Age</th>\n",
       "      <th>Height</th>\n",
       "      <th>Weight</th>\n",
       "    </tr>\n",
       "  </thead>\n",
       "  <tbody>\n",
       "    <tr>\n",
       "      <th>0</th>\n",
       "      <td>1.0</td>\n",
       "      <td>NaN</td>\n",
       "      <td>12.0</td>\n",
       "    </tr>\n",
       "    <tr>\n",
       "      <th>1</th>\n",
       "      <td>2.0</td>\n",
       "      <td>45.0</td>\n",
       "      <td>12.0</td>\n",
       "    </tr>\n",
       "    <tr>\n",
       "      <th>2</th>\n",
       "      <td>5.0</td>\n",
       "      <td>5.0</td>\n",
       "      <td>5.0</td>\n",
       "    </tr>\n",
       "    <tr>\n",
       "      <th>3</th>\n",
       "      <td>5.0</td>\n",
       "      <td>5.0</td>\n",
       "      <td>5.0</td>\n",
       "    </tr>\n",
       "    <tr>\n",
       "      <th>4</th>\n",
       "      <td>NaN</td>\n",
       "      <td>33.0</td>\n",
       "      <td>67.0</td>\n",
       "    </tr>\n",
       "  </tbody>\n",
       "</table>\n",
       "</div>"
      ],
      "text/plain": [
       "   Age  Height  Weight\n",
       "0  1.0     NaN    12.0\n",
       "1  2.0    45.0    12.0\n",
       "2  5.0     5.0     5.0\n",
       "3  5.0     5.0     5.0\n",
       "4  NaN    33.0    67.0"
      ]
     },
     "execution_count": 45,
     "metadata": {},
     "output_type": "execute_result"
    }
   ],
   "source": [
    "s"
   ]
  },
  {
   "cell_type": "code",
   "execution_count": 49,
   "id": "500a65cc-7fbd-4fb1-a9fb-3cb508e24c76",
   "metadata": {},
   "outputs": [
    {
     "data": {
      "text/plain": [
       "0    False\n",
       "1    False\n",
       "2    False\n",
       "3     True\n",
       "4    False\n",
       "dtype: bool"
      ]
     },
     "execution_count": 49,
     "metadata": {},
     "output_type": "execute_result"
    }
   ],
   "source": [
    "s.duplicated()"
   ]
  },
  {
   "cell_type": "code",
   "execution_count": 53,
   "id": "f9da51ac-48d5-4f75-a3af-26c9fdd5854b",
   "metadata": {},
   "outputs": [
    {
     "data": {
      "text/plain": [
       "0    False\n",
       "1    False\n",
       "2    False\n",
       "3     True\n",
       "4    False\n",
       "dtype: bool"
      ]
     },
     "execution_count": 53,
     "metadata": {},
     "output_type": "execute_result"
    }
   ],
   "source": [
    "s.duplicated()"
   ]
  },
  {
   "cell_type": "code",
   "execution_count": 54,
   "id": "6cfa0716-0bb1-453d-b76e-0ee4c5f25e46",
   "metadata": {},
   "outputs": [
    {
     "data": {
      "text/html": [
       "<div>\n",
       "<style scoped>\n",
       "    .dataframe tbody tr th:only-of-type {\n",
       "        vertical-align: middle;\n",
       "    }\n",
       "\n",
       "    .dataframe tbody tr th {\n",
       "        vertical-align: top;\n",
       "    }\n",
       "\n",
       "    .dataframe thead th {\n",
       "        text-align: right;\n",
       "    }\n",
       "</style>\n",
       "<table border=\"1\" class=\"dataframe\">\n",
       "  <thead>\n",
       "    <tr style=\"text-align: right;\">\n",
       "      <th></th>\n",
       "      <th>Age</th>\n",
       "      <th>Height</th>\n",
       "      <th>Weight</th>\n",
       "    </tr>\n",
       "  </thead>\n",
       "  <tbody>\n",
       "    <tr>\n",
       "      <th>0</th>\n",
       "      <td>1.0</td>\n",
       "      <td>NaN</td>\n",
       "      <td>12.0</td>\n",
       "    </tr>\n",
       "    <tr>\n",
       "      <th>1</th>\n",
       "      <td>2.0</td>\n",
       "      <td>45.0</td>\n",
       "      <td>12.0</td>\n",
       "    </tr>\n",
       "    <tr>\n",
       "      <th>2</th>\n",
       "      <td>5.0</td>\n",
       "      <td>5.0</td>\n",
       "      <td>5.0</td>\n",
       "    </tr>\n",
       "    <tr>\n",
       "      <th>4</th>\n",
       "      <td>NaN</td>\n",
       "      <td>33.0</td>\n",
       "      <td>67.0</td>\n",
       "    </tr>\n",
       "  </tbody>\n",
       "</table>\n",
       "</div>"
      ],
      "text/plain": [
       "   Age  Height  Weight\n",
       "0  1.0     NaN    12.0\n",
       "1  2.0    45.0    12.0\n",
       "2  5.0     5.0     5.0\n",
       "4  NaN    33.0    67.0"
      ]
     },
     "execution_count": 54,
     "metadata": {},
     "output_type": "execute_result"
    }
   ],
   "source": [
    "s.drop_duplicates()"
   ]
  },
  {
   "cell_type": "code",
   "execution_count": 56,
   "id": "83a6b71e-6411-48f1-90fe-436570dafc79",
   "metadata": {},
   "outputs": [
    {
     "data": {
      "text/plain": [
       "0    False\n",
       "1     True\n",
       "2    False\n",
       "3     True\n",
       "4    False\n",
       "dtype: bool"
      ]
     },
     "execution_count": 56,
     "metadata": {},
     "output_type": "execute_result"
    }
   ],
   "source": [
    "s.duplicated(subset = [\"Weight\"])"
   ]
  },
  {
   "cell_type": "code",
   "execution_count": 58,
   "id": "0c00b005-5ffc-44df-a08a-f30979b0503d",
   "metadata": {},
   "outputs": [],
   "source": [
    "df = pd.read_csv(\"Downloads/MCA-Jain Template-1_VideoData_2022-01-06.csv\")"
   ]
  },
  {
   "cell_type": "code",
   "execution_count": 59,
   "id": "bde9d950-93d5-4d57-afc9-8d8365926040",
   "metadata": {},
   "outputs": [
    {
     "data": {
      "text/html": [
       "<div>\n",
       "<style scoped>\n",
       "    .dataframe tbody tr th:only-of-type {\n",
       "        vertical-align: middle;\n",
       "    }\n",
       "\n",
       "    .dataframe tbody tr th {\n",
       "        vertical-align: top;\n",
       "    }\n",
       "\n",
       "    .dataframe thead th {\n",
       "        text-align: right;\n",
       "    }\n",
       "</style>\n",
       "<table border=\"1\" class=\"dataframe\">\n",
       "  <thead>\n",
       "    <tr style=\"text-align: right;\">\n",
       "      <th></th>\n",
       "      <th>User Name</th>\n",
       "      <th>User ID</th>\n",
       "      <th>Course Name</th>\n",
       "      <th>Module Name</th>\n",
       "      <th>Video Name</th>\n",
       "      <th>Video Duration (Seconds)</th>\n",
       "      <th>Percentage Watched</th>\n",
       "      <th>Total Time Watched (Seconds)</th>\n",
       "    </tr>\n",
       "  </thead>\n",
       "  <tbody>\n",
       "    <tr>\n",
       "      <th>0</th>\n",
       "      <td>test</td>\n",
       "      <td>2062442</td>\n",
       "      <td>21VMT0C105: Computer Organization &amp; Architecture</td>\n",
       "      <td>21VMC0C105: Computer Organization &amp; Architectu...</td>\n",
       "      <td>Course Outcomes</td>\n",
       "      <td>128</td>\n",
       "      <td>0</td>\n",
       "      <td>0</td>\n",
       "    </tr>\n",
       "    <tr>\n",
       "      <th>1</th>\n",
       "      <td>test</td>\n",
       "      <td>2062442</td>\n",
       "      <td>21VMT0C105: Computer Organization &amp; Architecture</td>\n",
       "      <td>Unit 1 - Basic Structure of Computers and Ins...</td>\n",
       "      <td>Agenda - Basic Structure of Computers and Inst...</td>\n",
       "      <td>83</td>\n",
       "      <td>0</td>\n",
       "      <td>0</td>\n",
       "    </tr>\n",
       "    <tr>\n",
       "      <th>2</th>\n",
       "      <td>test</td>\n",
       "      <td>2062442</td>\n",
       "      <td>21VMT0C105: Computer Organization &amp; Architecture</td>\n",
       "      <td>Unit 1 - Basic Structure of Computers and Ins...</td>\n",
       "      <td>Introduction To Digital Computer</td>\n",
       "      <td>590</td>\n",
       "      <td>0</td>\n",
       "      <td>0</td>\n",
       "    </tr>\n",
       "    <tr>\n",
       "      <th>3</th>\n",
       "      <td>test</td>\n",
       "      <td>2062442</td>\n",
       "      <td>21VMT0C105: Computer Organization &amp; Architecture</td>\n",
       "      <td>Unit 1 - Basic Structure of Computers and Ins...</td>\n",
       "      <td>Building Blocks of a Computer System</td>\n",
       "      <td>659</td>\n",
       "      <td>0</td>\n",
       "      <td>0</td>\n",
       "    </tr>\n",
       "    <tr>\n",
       "      <th>4</th>\n",
       "      <td>test</td>\n",
       "      <td>2062442</td>\n",
       "      <td>21VMT0C105: Computer Organization &amp; Architecture</td>\n",
       "      <td>Unit 1 - Basic Structure of Computers and Ins...</td>\n",
       "      <td>Basics Of Number System</td>\n",
       "      <td>584</td>\n",
       "      <td>0</td>\n",
       "      <td>0</td>\n",
       "    </tr>\n",
       "    <tr>\n",
       "      <th>...</th>\n",
       "      <td>...</td>\n",
       "      <td>...</td>\n",
       "      <td>...</td>\n",
       "      <td>...</td>\n",
       "      <td>...</td>\n",
       "      <td>...</td>\n",
       "      <td>...</td>\n",
       "      <td>...</td>\n",
       "    </tr>\n",
       "    <tr>\n",
       "      <th>624</th>\n",
       "      <td>test</td>\n",
       "      <td>2062442</td>\n",
       "      <td>21VMT0C101: Mathematical Foundation for Comput...</td>\n",
       "      <td>Unit 15 - Network Optimization - Assignment Pr...</td>\n",
       "      <td>Hungarian Method</td>\n",
       "      <td>1788</td>\n",
       "      <td>0</td>\n",
       "      <td>0</td>\n",
       "    </tr>\n",
       "    <tr>\n",
       "      <th>625</th>\n",
       "      <td>test</td>\n",
       "      <td>2062442</td>\n",
       "      <td>21VMT0C101: Mathematical Foundation for Comput...</td>\n",
       "      <td>Unit 15 - Network Optimization - Assignment Pr...</td>\n",
       "      <td>Unbalanced Assignment Problem - part 1</td>\n",
       "      <td>982</td>\n",
       "      <td>0</td>\n",
       "      <td>0</td>\n",
       "    </tr>\n",
       "    <tr>\n",
       "      <th>626</th>\n",
       "      <td>test</td>\n",
       "      <td>2062442</td>\n",
       "      <td>21VMT0C101: Mathematical Foundation for Comput...</td>\n",
       "      <td>Unit 15 - Network Optimization - Assignment Pr...</td>\n",
       "      <td>Unbalanced Assignment Problem - part 2</td>\n",
       "      <td>1029</td>\n",
       "      <td>0</td>\n",
       "      <td>0</td>\n",
       "    </tr>\n",
       "    <tr>\n",
       "      <th>627</th>\n",
       "      <td>test</td>\n",
       "      <td>2062442</td>\n",
       "      <td>21VMT0C101: Mathematical Foundation for Comput...</td>\n",
       "      <td>Unit 15 - Network Optimization - Assignment Pr...</td>\n",
       "      <td>Maximization Assignment Problem</td>\n",
       "      <td>1748</td>\n",
       "      <td>0</td>\n",
       "      <td>0</td>\n",
       "    </tr>\n",
       "    <tr>\n",
       "      <th>628</th>\n",
       "      <td>test</td>\n",
       "      <td>2062442</td>\n",
       "      <td>21VMT0C101: Mathematical Foundation for Comput...</td>\n",
       "      <td>Unit 15 - Network Optimization - Assignment Pr...</td>\n",
       "      <td>Restricted Assignment Problem</td>\n",
       "      <td>1388</td>\n",
       "      <td>0</td>\n",
       "      <td>0</td>\n",
       "    </tr>\n",
       "  </tbody>\n",
       "</table>\n",
       "<p>629 rows × 8 columns</p>\n",
       "</div>"
      ],
      "text/plain": [
       "    User Name  User ID                                        Course Name  \\\n",
       "0        test  2062442   21VMT0C105: Computer Organization & Architecture   \n",
       "1        test  2062442   21VMT0C105: Computer Organization & Architecture   \n",
       "2        test  2062442   21VMT0C105: Computer Organization & Architecture   \n",
       "3        test  2062442   21VMT0C105: Computer Organization & Architecture   \n",
       "4        test  2062442   21VMT0C105: Computer Organization & Architecture   \n",
       "..        ...      ...                                                ...   \n",
       "624      test  2062442  21VMT0C101: Mathematical Foundation for Comput...   \n",
       "625      test  2062442  21VMT0C101: Mathematical Foundation for Comput...   \n",
       "626      test  2062442  21VMT0C101: Mathematical Foundation for Comput...   \n",
       "627      test  2062442  21VMT0C101: Mathematical Foundation for Comput...   \n",
       "628      test  2062442  21VMT0C101: Mathematical Foundation for Comput...   \n",
       "\n",
       "                                           Module Name  \\\n",
       "0    21VMC0C105: Computer Organization & Architectu...   \n",
       "1     Unit 1 - Basic Structure of Computers and Ins...   \n",
       "2     Unit 1 - Basic Structure of Computers and Ins...   \n",
       "3     Unit 1 - Basic Structure of Computers and Ins...   \n",
       "4     Unit 1 - Basic Structure of Computers and Ins...   \n",
       "..                                                 ...   \n",
       "624  Unit 15 - Network Optimization - Assignment Pr...   \n",
       "625  Unit 15 - Network Optimization - Assignment Pr...   \n",
       "626  Unit 15 - Network Optimization - Assignment Pr...   \n",
       "627  Unit 15 - Network Optimization - Assignment Pr...   \n",
       "628  Unit 15 - Network Optimization - Assignment Pr...   \n",
       "\n",
       "                                            Video Name  \\\n",
       "0                                      Course Outcomes   \n",
       "1    Agenda - Basic Structure of Computers and Inst...   \n",
       "2                     Introduction To Digital Computer   \n",
       "3                 Building Blocks of a Computer System   \n",
       "4                              Basics Of Number System   \n",
       "..                                                 ...   \n",
       "624                                   Hungarian Method   \n",
       "625             Unbalanced Assignment Problem - part 1   \n",
       "626             Unbalanced Assignment Problem - part 2   \n",
       "627                    Maximization Assignment Problem   \n",
       "628                      Restricted Assignment Problem   \n",
       "\n",
       "     Video Duration (Seconds)  Percentage Watched  \\\n",
       "0                         128                   0   \n",
       "1                          83                   0   \n",
       "2                         590                   0   \n",
       "3                         659                   0   \n",
       "4                         584                   0   \n",
       "..                        ...                 ...   \n",
       "624                      1788                   0   \n",
       "625                       982                   0   \n",
       "626                      1029                   0   \n",
       "627                      1748                   0   \n",
       "628                      1388                   0   \n",
       "\n",
       "     Total Time Watched (Seconds)  \n",
       "0                               0  \n",
       "1                               0  \n",
       "2                               0  \n",
       "3                               0  \n",
       "4                               0  \n",
       "..                            ...  \n",
       "624                             0  \n",
       "625                             0  \n",
       "626                             0  \n",
       "627                             0  \n",
       "628                             0  \n",
       "\n",
       "[629 rows x 8 columns]"
      ]
     },
     "execution_count": 59,
     "metadata": {},
     "output_type": "execute_result"
    }
   ],
   "source": [
    "df"
   ]
  },
  {
   "cell_type": "code",
   "execution_count": 61,
   "id": "8fcca37f-27c3-4827-a6fe-1043b369f82b",
   "metadata": {},
   "outputs": [
    {
     "name": "stdout",
     "output_type": "stream",
     "text": [
      "<class 'pandas.core.frame.DataFrame'>\n",
      "RangeIndex: 629 entries, 0 to 628\n",
      "Data columns (total 8 columns):\n",
      " #   Column                        Non-Null Count  Dtype \n",
      "---  ------                        --------------  ----- \n",
      " 0   User Name                     629 non-null    object\n",
      " 1   User ID                       629 non-null    int64 \n",
      " 2   Course Name                   629 non-null    object\n",
      " 3   Module Name                   629 non-null    object\n",
      " 4   Video Name                    629 non-null    object\n",
      " 5   Video Duration (Seconds)      629 non-null    int64 \n",
      " 6   Percentage Watched            629 non-null    int64 \n",
      " 7   Total Time Watched (Seconds)  629 non-null    int64 \n",
      "dtypes: int64(4), object(4)\n",
      "memory usage: 39.4+ KB\n"
     ]
    }
   ],
   "source": [
    "df.info()"
   ]
  },
  {
   "cell_type": "code",
   "execution_count": 62,
   "id": "80105245-e15c-4392-b198-73ffa7cc8b8d",
   "metadata": {},
   "outputs": [
    {
     "data": {
      "text/html": [
       "<div>\n",
       "<style scoped>\n",
       "    .dataframe tbody tr th:only-of-type {\n",
       "        vertical-align: middle;\n",
       "    }\n",
       "\n",
       "    .dataframe tbody tr th {\n",
       "        vertical-align: top;\n",
       "    }\n",
       "\n",
       "    .dataframe thead th {\n",
       "        text-align: right;\n",
       "    }\n",
       "</style>\n",
       "<table border=\"1\" class=\"dataframe\">\n",
       "  <thead>\n",
       "    <tr style=\"text-align: right;\">\n",
       "      <th></th>\n",
       "      <th>User ID</th>\n",
       "      <th>Video Duration (Seconds)</th>\n",
       "      <th>Percentage Watched</th>\n",
       "      <th>Total Time Watched (Seconds)</th>\n",
       "    </tr>\n",
       "  </thead>\n",
       "  <tbody>\n",
       "    <tr>\n",
       "      <th>count</th>\n",
       "      <td>629.0</td>\n",
       "      <td>629.000000</td>\n",
       "      <td>629.0</td>\n",
       "      <td>629.0</td>\n",
       "    </tr>\n",
       "    <tr>\n",
       "      <th>mean</th>\n",
       "      <td>2062442.0</td>\n",
       "      <td>737.632750</td>\n",
       "      <td>0.0</td>\n",
       "      <td>0.0</td>\n",
       "    </tr>\n",
       "    <tr>\n",
       "      <th>std</th>\n",
       "      <td>0.0</td>\n",
       "      <td>484.358349</td>\n",
       "      <td>0.0</td>\n",
       "      <td>0.0</td>\n",
       "    </tr>\n",
       "    <tr>\n",
       "      <th>min</th>\n",
       "      <td>2062442.0</td>\n",
       "      <td>14.000000</td>\n",
       "      <td>0.0</td>\n",
       "      <td>0.0</td>\n",
       "    </tr>\n",
       "    <tr>\n",
       "      <th>25%</th>\n",
       "      <td>2062442.0</td>\n",
       "      <td>360.000000</td>\n",
       "      <td>0.0</td>\n",
       "      <td>0.0</td>\n",
       "    </tr>\n",
       "    <tr>\n",
       "      <th>50%</th>\n",
       "      <td>2062442.0</td>\n",
       "      <td>691.000000</td>\n",
       "      <td>0.0</td>\n",
       "      <td>0.0</td>\n",
       "    </tr>\n",
       "    <tr>\n",
       "      <th>75%</th>\n",
       "      <td>2062442.0</td>\n",
       "      <td>1029.000000</td>\n",
       "      <td>0.0</td>\n",
       "      <td>0.0</td>\n",
       "    </tr>\n",
       "    <tr>\n",
       "      <th>max</th>\n",
       "      <td>2062442.0</td>\n",
       "      <td>3060.000000</td>\n",
       "      <td>0.0</td>\n",
       "      <td>0.0</td>\n",
       "    </tr>\n",
       "  </tbody>\n",
       "</table>\n",
       "</div>"
      ],
      "text/plain": [
       "         User ID  Video Duration (Seconds)  Percentage Watched  \\\n",
       "count      629.0                629.000000               629.0   \n",
       "mean   2062442.0                737.632750                 0.0   \n",
       "std          0.0                484.358349                 0.0   \n",
       "min    2062442.0                 14.000000                 0.0   \n",
       "25%    2062442.0                360.000000                 0.0   \n",
       "50%    2062442.0                691.000000                 0.0   \n",
       "75%    2062442.0               1029.000000                 0.0   \n",
       "max    2062442.0               3060.000000                 0.0   \n",
       "\n",
       "       Total Time Watched (Seconds)  \n",
       "count                         629.0  \n",
       "mean                            0.0  \n",
       "std                             0.0  \n",
       "min                             0.0  \n",
       "25%                             0.0  \n",
       "50%                             0.0  \n",
       "75%                             0.0  \n",
       "max                             0.0  "
      ]
     },
     "execution_count": 62,
     "metadata": {},
     "output_type": "execute_result"
    }
   ],
   "source": [
    "df.describe()"
   ]
  },
  {
   "cell_type": "code",
   "execution_count": 64,
   "id": "32e25352-f6e8-43fb-9c4c-dc76d6a581d7",
   "metadata": {},
   "outputs": [],
   "source": [
    "df = df.drop(\"Percentage Watched\", axis = 1)"
   ]
  },
  {
   "cell_type": "code",
   "execution_count": 65,
   "id": "f2b619c8-3124-44ae-8920-f7157bd64f6b",
   "metadata": {},
   "outputs": [
    {
     "data": {
      "text/html": [
       "<div>\n",
       "<style scoped>\n",
       "    .dataframe tbody tr th:only-of-type {\n",
       "        vertical-align: middle;\n",
       "    }\n",
       "\n",
       "    .dataframe tbody tr th {\n",
       "        vertical-align: top;\n",
       "    }\n",
       "\n",
       "    .dataframe thead th {\n",
       "        text-align: right;\n",
       "    }\n",
       "</style>\n",
       "<table border=\"1\" class=\"dataframe\">\n",
       "  <thead>\n",
       "    <tr style=\"text-align: right;\">\n",
       "      <th></th>\n",
       "      <th>User Name</th>\n",
       "      <th>User ID</th>\n",
       "      <th>Course Name</th>\n",
       "      <th>Module Name</th>\n",
       "      <th>Video Name</th>\n",
       "      <th>Video Duration (Seconds)</th>\n",
       "      <th>Total Time Watched (Seconds)</th>\n",
       "    </tr>\n",
       "  </thead>\n",
       "  <tbody>\n",
       "    <tr>\n",
       "      <th>0</th>\n",
       "      <td>test</td>\n",
       "      <td>2062442</td>\n",
       "      <td>21VMT0C105: Computer Organization &amp; Architecture</td>\n",
       "      <td>21VMC0C105: Computer Organization &amp; Architectu...</td>\n",
       "      <td>Course Outcomes</td>\n",
       "      <td>128</td>\n",
       "      <td>0</td>\n",
       "    </tr>\n",
       "    <tr>\n",
       "      <th>1</th>\n",
       "      <td>test</td>\n",
       "      <td>2062442</td>\n",
       "      <td>21VMT0C105: Computer Organization &amp; Architecture</td>\n",
       "      <td>Unit 1 - Basic Structure of Computers and Ins...</td>\n",
       "      <td>Agenda - Basic Structure of Computers and Inst...</td>\n",
       "      <td>83</td>\n",
       "      <td>0</td>\n",
       "    </tr>\n",
       "    <tr>\n",
       "      <th>2</th>\n",
       "      <td>test</td>\n",
       "      <td>2062442</td>\n",
       "      <td>21VMT0C105: Computer Organization &amp; Architecture</td>\n",
       "      <td>Unit 1 - Basic Structure of Computers and Ins...</td>\n",
       "      <td>Introduction To Digital Computer</td>\n",
       "      <td>590</td>\n",
       "      <td>0</td>\n",
       "    </tr>\n",
       "    <tr>\n",
       "      <th>3</th>\n",
       "      <td>test</td>\n",
       "      <td>2062442</td>\n",
       "      <td>21VMT0C105: Computer Organization &amp; Architecture</td>\n",
       "      <td>Unit 1 - Basic Structure of Computers and Ins...</td>\n",
       "      <td>Building Blocks of a Computer System</td>\n",
       "      <td>659</td>\n",
       "      <td>0</td>\n",
       "    </tr>\n",
       "    <tr>\n",
       "      <th>4</th>\n",
       "      <td>test</td>\n",
       "      <td>2062442</td>\n",
       "      <td>21VMT0C105: Computer Organization &amp; Architecture</td>\n",
       "      <td>Unit 1 - Basic Structure of Computers and Ins...</td>\n",
       "      <td>Basics Of Number System</td>\n",
       "      <td>584</td>\n",
       "      <td>0</td>\n",
       "    </tr>\n",
       "  </tbody>\n",
       "</table>\n",
       "</div>"
      ],
      "text/plain": [
       "  User Name  User ID                                       Course Name  \\\n",
       "0      test  2062442  21VMT0C105: Computer Organization & Architecture   \n",
       "1      test  2062442  21VMT0C105: Computer Organization & Architecture   \n",
       "2      test  2062442  21VMT0C105: Computer Organization & Architecture   \n",
       "3      test  2062442  21VMT0C105: Computer Organization & Architecture   \n",
       "4      test  2062442  21VMT0C105: Computer Organization & Architecture   \n",
       "\n",
       "                                         Module Name  \\\n",
       "0  21VMC0C105: Computer Organization & Architectu...   \n",
       "1   Unit 1 - Basic Structure of Computers and Ins...   \n",
       "2   Unit 1 - Basic Structure of Computers and Ins...   \n",
       "3   Unit 1 - Basic Structure of Computers and Ins...   \n",
       "4   Unit 1 - Basic Structure of Computers and Ins...   \n",
       "\n",
       "                                          Video Name  \\\n",
       "0                                    Course Outcomes   \n",
       "1  Agenda - Basic Structure of Computers and Inst...   \n",
       "2                   Introduction To Digital Computer   \n",
       "3               Building Blocks of a Computer System   \n",
       "4                            Basics Of Number System   \n",
       "\n",
       "   Video Duration (Seconds)  Total Time Watched (Seconds)  \n",
       "0                       128                             0  \n",
       "1                        83                             0  \n",
       "2                       590                             0  \n",
       "3                       659                             0  \n",
       "4                       584                             0  "
      ]
     },
     "execution_count": 65,
     "metadata": {},
     "output_type": "execute_result"
    }
   ],
   "source": [
    "df.head()"
   ]
  },
  {
   "cell_type": "code",
   "execution_count": 66,
   "id": "a441c438-31c6-4419-897a-78581ff8835b",
   "metadata": {},
   "outputs": [
    {
     "data": {
      "text/plain": [
       "array(['21VMT0C105: Computer Organization & Architecture',\n",
       "       '21VMT0C104: Data Structures with Algorithms',\n",
       "       '21VMT0C103: Data Communication & Computer Networks',\n",
       "       '21VMT0C102: Operating System & Unix Shell Programming',\n",
       "       '21VMT0C101: Mathematical Foundation for Computer Application'],\n",
       "      dtype=object)"
      ]
     },
     "execution_count": 66,
     "metadata": {},
     "output_type": "execute_result"
    }
   ],
   "source": [
    "df[\"Course Name\"].unique()"
   ]
  },
  {
   "cell_type": "code",
   "execution_count": 69,
   "id": "a32162b6-8502-4282-8708-a68f58137e5c",
   "metadata": {},
   "outputs": [
    {
     "data": {
      "text/plain": [
       "0"
      ]
     },
     "execution_count": 69,
     "metadata": {},
     "output_type": "execute_result"
    }
   ],
   "source": [
    "df.duplicated().sum()"
   ]
  },
  {
   "cell_type": "code",
   "execution_count": 70,
   "id": "eb987372-dad2-435e-8216-fd4bece023a2",
   "metadata": {},
   "outputs": [
    {
     "name": "stdout",
     "output_type": "stream",
     "text": [
      "<class 'pandas.core.frame.DataFrame'>\n",
      "RangeIndex: 629 entries, 0 to 628\n",
      "Data columns (total 7 columns):\n",
      " #   Column                        Non-Null Count  Dtype \n",
      "---  ------                        --------------  ----- \n",
      " 0   User Name                     629 non-null    object\n",
      " 1   User ID                       629 non-null    int64 \n",
      " 2   Course Name                   629 non-null    object\n",
      " 3   Module Name                   629 non-null    object\n",
      " 4   Video Name                    629 non-null    object\n",
      " 5   Video Duration (Seconds)      629 non-null    int64 \n",
      " 6   Total Time Watched (Seconds)  629 non-null    int64 \n",
      "dtypes: int64(3), object(4)\n",
      "memory usage: 34.5+ KB\n"
     ]
    }
   ],
   "source": [
    "df.info()"
   ]
  },
  {
   "cell_type": "code",
   "execution_count": 83,
   "id": "e79c3e21-ba4a-4a5a-bc10-878c39885b29",
   "metadata": {},
   "outputs": [],
   "source": [
    "a = df[\"Course Name\"].str.split(\":\", expand = True)"
   ]
  },
  {
   "cell_type": "code",
   "execution_count": 92,
   "id": "f6826faa-8f67-4a67-b1e8-ffd28a6d46ea",
   "metadata": {},
   "outputs": [],
   "source": [
    "a.columns = [\"Course Code\", \"Subject Name\"]"
   ]
  },
  {
   "cell_type": "code",
   "execution_count": 93,
   "id": "b8a9e9c6-a7fd-4ee6-92c2-9539a9c30a22",
   "metadata": {},
   "outputs": [
    {
     "data": {
      "text/html": [
       "<div>\n",
       "<style scoped>\n",
       "    .dataframe tbody tr th:only-of-type {\n",
       "        vertical-align: middle;\n",
       "    }\n",
       "\n",
       "    .dataframe tbody tr th {\n",
       "        vertical-align: top;\n",
       "    }\n",
       "\n",
       "    .dataframe thead th {\n",
       "        text-align: right;\n",
       "    }\n",
       "</style>\n",
       "<table border=\"1\" class=\"dataframe\">\n",
       "  <thead>\n",
       "    <tr style=\"text-align: right;\">\n",
       "      <th></th>\n",
       "      <th>Course Code</th>\n",
       "      <th>Subject Name</th>\n",
       "    </tr>\n",
       "  </thead>\n",
       "  <tbody>\n",
       "    <tr>\n",
       "      <th>0</th>\n",
       "      <td>21VMT0C105</td>\n",
       "      <td>Computer Organization &amp; Architecture</td>\n",
       "    </tr>\n",
       "    <tr>\n",
       "      <th>1</th>\n",
       "      <td>21VMT0C105</td>\n",
       "      <td>Computer Organization &amp; Architecture</td>\n",
       "    </tr>\n",
       "    <tr>\n",
       "      <th>2</th>\n",
       "      <td>21VMT0C105</td>\n",
       "      <td>Computer Organization &amp; Architecture</td>\n",
       "    </tr>\n",
       "    <tr>\n",
       "      <th>3</th>\n",
       "      <td>21VMT0C105</td>\n",
       "      <td>Computer Organization &amp; Architecture</td>\n",
       "    </tr>\n",
       "    <tr>\n",
       "      <th>4</th>\n",
       "      <td>21VMT0C105</td>\n",
       "      <td>Computer Organization &amp; Architecture</td>\n",
       "    </tr>\n",
       "    <tr>\n",
       "      <th>...</th>\n",
       "      <td>...</td>\n",
       "      <td>...</td>\n",
       "    </tr>\n",
       "    <tr>\n",
       "      <th>624</th>\n",
       "      <td>21VMT0C101</td>\n",
       "      <td>Mathematical Foundation for Computer Application</td>\n",
       "    </tr>\n",
       "    <tr>\n",
       "      <th>625</th>\n",
       "      <td>21VMT0C101</td>\n",
       "      <td>Mathematical Foundation for Computer Application</td>\n",
       "    </tr>\n",
       "    <tr>\n",
       "      <th>626</th>\n",
       "      <td>21VMT0C101</td>\n",
       "      <td>Mathematical Foundation for Computer Application</td>\n",
       "    </tr>\n",
       "    <tr>\n",
       "      <th>627</th>\n",
       "      <td>21VMT0C101</td>\n",
       "      <td>Mathematical Foundation for Computer Application</td>\n",
       "    </tr>\n",
       "    <tr>\n",
       "      <th>628</th>\n",
       "      <td>21VMT0C101</td>\n",
       "      <td>Mathematical Foundation for Computer Application</td>\n",
       "    </tr>\n",
       "  </tbody>\n",
       "</table>\n",
       "<p>629 rows × 2 columns</p>\n",
       "</div>"
      ],
      "text/plain": [
       "    Course Code                                       Subject Name\n",
       "0    21VMT0C105               Computer Organization & Architecture\n",
       "1    21VMT0C105               Computer Organization & Architecture\n",
       "2    21VMT0C105               Computer Organization & Architecture\n",
       "3    21VMT0C105               Computer Organization & Architecture\n",
       "4    21VMT0C105               Computer Organization & Architecture\n",
       "..          ...                                                ...\n",
       "624  21VMT0C101   Mathematical Foundation for Computer Application\n",
       "625  21VMT0C101   Mathematical Foundation for Computer Application\n",
       "626  21VMT0C101   Mathematical Foundation for Computer Application\n",
       "627  21VMT0C101   Mathematical Foundation for Computer Application\n",
       "628  21VMT0C101   Mathematical Foundation for Computer Application\n",
       "\n",
       "[629 rows x 2 columns]"
      ]
     },
     "execution_count": 93,
     "metadata": {},
     "output_type": "execute_result"
    }
   ],
   "source": [
    "a"
   ]
  },
  {
   "cell_type": "code",
   "execution_count": 94,
   "id": "23dfa62e-05ff-4cd8-b3c5-39566d3408d7",
   "metadata": {},
   "outputs": [
    {
     "data": {
      "text/html": [
       "<div>\n",
       "<style scoped>\n",
       "    .dataframe tbody tr th:only-of-type {\n",
       "        vertical-align: middle;\n",
       "    }\n",
       "\n",
       "    .dataframe tbody tr th {\n",
       "        vertical-align: top;\n",
       "    }\n",
       "\n",
       "    .dataframe thead th {\n",
       "        text-align: right;\n",
       "    }\n",
       "</style>\n",
       "<table border=\"1\" class=\"dataframe\">\n",
       "  <thead>\n",
       "    <tr style=\"text-align: right;\">\n",
       "      <th></th>\n",
       "      <th>User Name</th>\n",
       "      <th>User ID</th>\n",
       "      <th>Module Name</th>\n",
       "      <th>Video Name</th>\n",
       "      <th>Video Duration (Seconds)</th>\n",
       "      <th>Total Time Watched (Seconds)</th>\n",
       "    </tr>\n",
       "  </thead>\n",
       "  <tbody>\n",
       "    <tr>\n",
       "      <th>0</th>\n",
       "      <td>test</td>\n",
       "      <td>2062442</td>\n",
       "      <td>21VMC0C105: Computer Organization &amp; Architectu...</td>\n",
       "      <td>Course Outcomes</td>\n",
       "      <td>128</td>\n",
       "      <td>0</td>\n",
       "    </tr>\n",
       "    <tr>\n",
       "      <th>1</th>\n",
       "      <td>test</td>\n",
       "      <td>2062442</td>\n",
       "      <td>Unit 1 - Basic Structure of Computers and Ins...</td>\n",
       "      <td>Agenda - Basic Structure of Computers and Inst...</td>\n",
       "      <td>83</td>\n",
       "      <td>0</td>\n",
       "    </tr>\n",
       "    <tr>\n",
       "      <th>2</th>\n",
       "      <td>test</td>\n",
       "      <td>2062442</td>\n",
       "      <td>Unit 1 - Basic Structure of Computers and Ins...</td>\n",
       "      <td>Introduction To Digital Computer</td>\n",
       "      <td>590</td>\n",
       "      <td>0</td>\n",
       "    </tr>\n",
       "    <tr>\n",
       "      <th>3</th>\n",
       "      <td>test</td>\n",
       "      <td>2062442</td>\n",
       "      <td>Unit 1 - Basic Structure of Computers and Ins...</td>\n",
       "      <td>Building Blocks of a Computer System</td>\n",
       "      <td>659</td>\n",
       "      <td>0</td>\n",
       "    </tr>\n",
       "    <tr>\n",
       "      <th>4</th>\n",
       "      <td>test</td>\n",
       "      <td>2062442</td>\n",
       "      <td>Unit 1 - Basic Structure of Computers and Ins...</td>\n",
       "      <td>Basics Of Number System</td>\n",
       "      <td>584</td>\n",
       "      <td>0</td>\n",
       "    </tr>\n",
       "    <tr>\n",
       "      <th>...</th>\n",
       "      <td>...</td>\n",
       "      <td>...</td>\n",
       "      <td>...</td>\n",
       "      <td>...</td>\n",
       "      <td>...</td>\n",
       "      <td>...</td>\n",
       "    </tr>\n",
       "    <tr>\n",
       "      <th>624</th>\n",
       "      <td>test</td>\n",
       "      <td>2062442</td>\n",
       "      <td>Unit 15 - Network Optimization - Assignment Pr...</td>\n",
       "      <td>Hungarian Method</td>\n",
       "      <td>1788</td>\n",
       "      <td>0</td>\n",
       "    </tr>\n",
       "    <tr>\n",
       "      <th>625</th>\n",
       "      <td>test</td>\n",
       "      <td>2062442</td>\n",
       "      <td>Unit 15 - Network Optimization - Assignment Pr...</td>\n",
       "      <td>Unbalanced Assignment Problem - part 1</td>\n",
       "      <td>982</td>\n",
       "      <td>0</td>\n",
       "    </tr>\n",
       "    <tr>\n",
       "      <th>626</th>\n",
       "      <td>test</td>\n",
       "      <td>2062442</td>\n",
       "      <td>Unit 15 - Network Optimization - Assignment Pr...</td>\n",
       "      <td>Unbalanced Assignment Problem - part 2</td>\n",
       "      <td>1029</td>\n",
       "      <td>0</td>\n",
       "    </tr>\n",
       "    <tr>\n",
       "      <th>627</th>\n",
       "      <td>test</td>\n",
       "      <td>2062442</td>\n",
       "      <td>Unit 15 - Network Optimization - Assignment Pr...</td>\n",
       "      <td>Maximization Assignment Problem</td>\n",
       "      <td>1748</td>\n",
       "      <td>0</td>\n",
       "    </tr>\n",
       "    <tr>\n",
       "      <th>628</th>\n",
       "      <td>test</td>\n",
       "      <td>2062442</td>\n",
       "      <td>Unit 15 - Network Optimization - Assignment Pr...</td>\n",
       "      <td>Restricted Assignment Problem</td>\n",
       "      <td>1388</td>\n",
       "      <td>0</td>\n",
       "    </tr>\n",
       "  </tbody>\n",
       "</table>\n",
       "<p>629 rows × 6 columns</p>\n",
       "</div>"
      ],
      "text/plain": [
       "    User Name  User ID                                        Module Name  \\\n",
       "0        test  2062442  21VMC0C105: Computer Organization & Architectu...   \n",
       "1        test  2062442   Unit 1 - Basic Structure of Computers and Ins...   \n",
       "2        test  2062442   Unit 1 - Basic Structure of Computers and Ins...   \n",
       "3        test  2062442   Unit 1 - Basic Structure of Computers and Ins...   \n",
       "4        test  2062442   Unit 1 - Basic Structure of Computers and Ins...   \n",
       "..        ...      ...                                                ...   \n",
       "624      test  2062442  Unit 15 - Network Optimization - Assignment Pr...   \n",
       "625      test  2062442  Unit 15 - Network Optimization - Assignment Pr...   \n",
       "626      test  2062442  Unit 15 - Network Optimization - Assignment Pr...   \n",
       "627      test  2062442  Unit 15 - Network Optimization - Assignment Pr...   \n",
       "628      test  2062442  Unit 15 - Network Optimization - Assignment Pr...   \n",
       "\n",
       "                                            Video Name  \\\n",
       "0                                      Course Outcomes   \n",
       "1    Agenda - Basic Structure of Computers and Inst...   \n",
       "2                     Introduction To Digital Computer   \n",
       "3                 Building Blocks of a Computer System   \n",
       "4                              Basics Of Number System   \n",
       "..                                                 ...   \n",
       "624                                   Hungarian Method   \n",
       "625             Unbalanced Assignment Problem - part 1   \n",
       "626             Unbalanced Assignment Problem - part 2   \n",
       "627                    Maximization Assignment Problem   \n",
       "628                      Restricted Assignment Problem   \n",
       "\n",
       "     Video Duration (Seconds)  Total Time Watched (Seconds)  \n",
       "0                         128                             0  \n",
       "1                          83                             0  \n",
       "2                         590                             0  \n",
       "3                         659                             0  \n",
       "4                         584                             0  \n",
       "..                        ...                           ...  \n",
       "624                      1788                             0  \n",
       "625                       982                             0  \n",
       "626                      1029                             0  \n",
       "627                      1748                             0  \n",
       "628                      1388                             0  \n",
       "\n",
       "[629 rows x 6 columns]"
      ]
     },
     "execution_count": 94,
     "metadata": {},
     "output_type": "execute_result"
    }
   ],
   "source": [
    "df.drop([\"Course Name\"], axis = 1)"
   ]
  },
  {
   "cell_type": "code",
   "execution_count": 96,
   "id": "df78b8a6-295b-4705-b44a-4a1ee0dc4348",
   "metadata": {},
   "outputs": [],
   "source": [
    "df[\"Course Code\"] = a[\"Course Code\"]\n",
    "df[\"Subject Name\"] = a[\"Subject Name\"]"
   ]
  },
  {
   "cell_type": "code",
   "execution_count": 101,
   "id": "28238ad6-4dc8-44e3-ba89-d31fb7567e8f",
   "metadata": {},
   "outputs": [],
   "source": [
    "df = df.drop([\"User Name\", \"User ID\", \"Total Time Watched (Seconds)\", \"Course Name\"], axis = \"columns\")"
   ]
  },
  {
   "cell_type": "code",
   "execution_count": 102,
   "id": "805d1fa4-aeb1-43e0-ad78-d3f6b0f48158",
   "metadata": {},
   "outputs": [
    {
     "data": {
      "text/html": [
       "<div>\n",
       "<style scoped>\n",
       "    .dataframe tbody tr th:only-of-type {\n",
       "        vertical-align: middle;\n",
       "    }\n",
       "\n",
       "    .dataframe tbody tr th {\n",
       "        vertical-align: top;\n",
       "    }\n",
       "\n",
       "    .dataframe thead th {\n",
       "        text-align: right;\n",
       "    }\n",
       "</style>\n",
       "<table border=\"1\" class=\"dataframe\">\n",
       "  <thead>\n",
       "    <tr style=\"text-align: right;\">\n",
       "      <th></th>\n",
       "      <th>Module Name</th>\n",
       "      <th>Video Name</th>\n",
       "      <th>Video Duration (Seconds)</th>\n",
       "      <th>Course Code</th>\n",
       "      <th>Subject Name</th>\n",
       "    </tr>\n",
       "  </thead>\n",
       "  <tbody>\n",
       "    <tr>\n",
       "      <th>0</th>\n",
       "      <td>21VMC0C105: Computer Organization &amp; Architectu...</td>\n",
       "      <td>Course Outcomes</td>\n",
       "      <td>128</td>\n",
       "      <td>21VMT0C105</td>\n",
       "      <td>Computer Organization &amp; Architecture</td>\n",
       "    </tr>\n",
       "    <tr>\n",
       "      <th>1</th>\n",
       "      <td>Unit 1 - Basic Structure of Computers and Ins...</td>\n",
       "      <td>Agenda - Basic Structure of Computers and Inst...</td>\n",
       "      <td>83</td>\n",
       "      <td>21VMT0C105</td>\n",
       "      <td>Computer Organization &amp; Architecture</td>\n",
       "    </tr>\n",
       "    <tr>\n",
       "      <th>2</th>\n",
       "      <td>Unit 1 - Basic Structure of Computers and Ins...</td>\n",
       "      <td>Introduction To Digital Computer</td>\n",
       "      <td>590</td>\n",
       "      <td>21VMT0C105</td>\n",
       "      <td>Computer Organization &amp; Architecture</td>\n",
       "    </tr>\n",
       "    <tr>\n",
       "      <th>3</th>\n",
       "      <td>Unit 1 - Basic Structure of Computers and Ins...</td>\n",
       "      <td>Building Blocks of a Computer System</td>\n",
       "      <td>659</td>\n",
       "      <td>21VMT0C105</td>\n",
       "      <td>Computer Organization &amp; Architecture</td>\n",
       "    </tr>\n",
       "    <tr>\n",
       "      <th>4</th>\n",
       "      <td>Unit 1 - Basic Structure of Computers and Ins...</td>\n",
       "      <td>Basics Of Number System</td>\n",
       "      <td>584</td>\n",
       "      <td>21VMT0C105</td>\n",
       "      <td>Computer Organization &amp; Architecture</td>\n",
       "    </tr>\n",
       "    <tr>\n",
       "      <th>...</th>\n",
       "      <td>...</td>\n",
       "      <td>...</td>\n",
       "      <td>...</td>\n",
       "      <td>...</td>\n",
       "      <td>...</td>\n",
       "    </tr>\n",
       "    <tr>\n",
       "      <th>624</th>\n",
       "      <td>Unit 15 - Network Optimization - Assignment Pr...</td>\n",
       "      <td>Hungarian Method</td>\n",
       "      <td>1788</td>\n",
       "      <td>21VMT0C101</td>\n",
       "      <td>Mathematical Foundation for Computer Application</td>\n",
       "    </tr>\n",
       "    <tr>\n",
       "      <th>625</th>\n",
       "      <td>Unit 15 - Network Optimization - Assignment Pr...</td>\n",
       "      <td>Unbalanced Assignment Problem - part 1</td>\n",
       "      <td>982</td>\n",
       "      <td>21VMT0C101</td>\n",
       "      <td>Mathematical Foundation for Computer Application</td>\n",
       "    </tr>\n",
       "    <tr>\n",
       "      <th>626</th>\n",
       "      <td>Unit 15 - Network Optimization - Assignment Pr...</td>\n",
       "      <td>Unbalanced Assignment Problem - part 2</td>\n",
       "      <td>1029</td>\n",
       "      <td>21VMT0C101</td>\n",
       "      <td>Mathematical Foundation for Computer Application</td>\n",
       "    </tr>\n",
       "    <tr>\n",
       "      <th>627</th>\n",
       "      <td>Unit 15 - Network Optimization - Assignment Pr...</td>\n",
       "      <td>Maximization Assignment Problem</td>\n",
       "      <td>1748</td>\n",
       "      <td>21VMT0C101</td>\n",
       "      <td>Mathematical Foundation for Computer Application</td>\n",
       "    </tr>\n",
       "    <tr>\n",
       "      <th>628</th>\n",
       "      <td>Unit 15 - Network Optimization - Assignment Pr...</td>\n",
       "      <td>Restricted Assignment Problem</td>\n",
       "      <td>1388</td>\n",
       "      <td>21VMT0C101</td>\n",
       "      <td>Mathematical Foundation for Computer Application</td>\n",
       "    </tr>\n",
       "  </tbody>\n",
       "</table>\n",
       "<p>629 rows × 5 columns</p>\n",
       "</div>"
      ],
      "text/plain": [
       "                                           Module Name  \\\n",
       "0    21VMC0C105: Computer Organization & Architectu...   \n",
       "1     Unit 1 - Basic Structure of Computers and Ins...   \n",
       "2     Unit 1 - Basic Structure of Computers and Ins...   \n",
       "3     Unit 1 - Basic Structure of Computers and Ins...   \n",
       "4     Unit 1 - Basic Structure of Computers and Ins...   \n",
       "..                                                 ...   \n",
       "624  Unit 15 - Network Optimization - Assignment Pr...   \n",
       "625  Unit 15 - Network Optimization - Assignment Pr...   \n",
       "626  Unit 15 - Network Optimization - Assignment Pr...   \n",
       "627  Unit 15 - Network Optimization - Assignment Pr...   \n",
       "628  Unit 15 - Network Optimization - Assignment Pr...   \n",
       "\n",
       "                                            Video Name  \\\n",
       "0                                      Course Outcomes   \n",
       "1    Agenda - Basic Structure of Computers and Inst...   \n",
       "2                     Introduction To Digital Computer   \n",
       "3                 Building Blocks of a Computer System   \n",
       "4                              Basics Of Number System   \n",
       "..                                                 ...   \n",
       "624                                   Hungarian Method   \n",
       "625             Unbalanced Assignment Problem - part 1   \n",
       "626             Unbalanced Assignment Problem - part 2   \n",
       "627                    Maximization Assignment Problem   \n",
       "628                      Restricted Assignment Problem   \n",
       "\n",
       "     Video Duration (Seconds) Course Code  \\\n",
       "0                         128  21VMT0C105   \n",
       "1                          83  21VMT0C105   \n",
       "2                         590  21VMT0C105   \n",
       "3                         659  21VMT0C105   \n",
       "4                         584  21VMT0C105   \n",
       "..                        ...         ...   \n",
       "624                      1788  21VMT0C101   \n",
       "625                       982  21VMT0C101   \n",
       "626                      1029  21VMT0C101   \n",
       "627                      1748  21VMT0C101   \n",
       "628                      1388  21VMT0C101   \n",
       "\n",
       "                                          Subject Name  \n",
       "0                 Computer Organization & Architecture  \n",
       "1                 Computer Organization & Architecture  \n",
       "2                 Computer Organization & Architecture  \n",
       "3                 Computer Organization & Architecture  \n",
       "4                 Computer Organization & Architecture  \n",
       "..                                                 ...  \n",
       "624   Mathematical Foundation for Computer Application  \n",
       "625   Mathematical Foundation for Computer Application  \n",
       "626   Mathematical Foundation for Computer Application  \n",
       "627   Mathematical Foundation for Computer Application  \n",
       "628   Mathematical Foundation for Computer Application  \n",
       "\n",
       "[629 rows x 5 columns]"
      ]
     },
     "execution_count": 102,
     "metadata": {},
     "output_type": "execute_result"
    }
   ],
   "source": [
    "df"
   ]
  },
  {
   "cell_type": "code",
   "execution_count": 103,
   "id": "bb83be20-bf1e-4321-9145-291f9746f13a",
   "metadata": {},
   "outputs": [],
   "source": [
    "# str functions contains : Strip, replace, contains"
   ]
  },
  {
   "cell_type": "code",
   "execution_count": 104,
   "id": "70b59510-4d08-4989-91e3-918ca5aa73ab",
   "metadata": {},
   "outputs": [],
   "source": [
    "# similar to str, we have dt (Data time) and cat (Categorical data)"
   ]
  },
  {
   "cell_type": "code",
   "execution_count": null,
   "id": "ee5d4668-1da6-4ed1-9b73-0a7c11568c2c",
   "metadata": {},
   "outputs": [],
   "source": []
  }
 ],
 "metadata": {
  "kernelspec": {
   "display_name": "Python 3 (ipykernel)",
   "language": "python",
   "name": "python3"
  },
  "language_info": {
   "codemirror_mode": {
    "name": "ipython",
    "version": 3
   },
   "file_extension": ".py",
   "mimetype": "text/x-python",
   "name": "python",
   "nbconvert_exporter": "python",
   "pygments_lexer": "ipython3",
   "version": "3.9.7"
  }
 },
 "nbformat": 4,
 "nbformat_minor": 5
}
