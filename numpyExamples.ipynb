{
 "cells": [
  {
   "cell_type": "code",
   "execution_count": 2,
   "id": "8538a768-4cfc-46ba-9d67-f0199bf22702",
   "metadata": {},
   "outputs": [],
   "source": [
    "import numpy as np"
   ]
  },
  {
   "cell_type": "code",
   "execution_count": 3,
   "id": "e26d84c0-23f0-41f0-8560-376ff27eec10",
   "metadata": {},
   "outputs": [
    {
     "data": {
      "text/plain": [
       "array([1, 2, 3, 4])"
      ]
     },
     "execution_count": 3,
     "metadata": {},
     "output_type": "execute_result"
    }
   ],
   "source": [
    "np.array([1,2,3,4])"
   ]
  },
  {
   "cell_type": "code",
   "execution_count": 4,
   "id": "b284e80a-842a-4b99-96ee-5ad9118da91f",
   "metadata": {},
   "outputs": [
    {
     "name": "stdout",
     "output_type": "stream",
     "text": [
      "[5 6 7 8 8]\n"
     ]
    }
   ],
   "source": [
    "a = np.array([5, 6, 7, 8, 8])\n",
    "print(a)"
   ]
  },
  {
   "cell_type": "code",
   "execution_count": 5,
   "id": "641ef7e8-af85-48de-91cf-c0224b31f0d9",
   "metadata": {},
   "outputs": [
    {
     "data": {
      "text/plain": [
       "7"
      ]
     },
     "execution_count": 5,
     "metadata": {},
     "output_type": "execute_result"
    }
   ],
   "source": [
    "a[2]"
   ]
  },
  {
   "cell_type": "code",
   "execution_count": 6,
   "id": "44d5a130-7a39-4024-97ae-7d0c5ddd1747",
   "metadata": {},
   "outputs": [
    {
     "data": {
      "text/plain": [
       "array([6, 7, 8])"
      ]
     },
     "execution_count": 6,
     "metadata": {},
     "output_type": "execute_result"
    }
   ],
   "source": [
    "a[1:4]"
   ]
  },
  {
   "cell_type": "code",
   "execution_count": 7,
   "id": "883db39e-eabd-4329-b4de-6aa3f1fd5dd2",
   "metadata": {},
   "outputs": [
    {
     "data": {
      "text/plain": [
       "dtype('int32')"
      ]
     },
     "execution_count": 7,
     "metadata": {},
     "output_type": "execute_result"
    }
   ],
   "source": [
    "a.dtype"
   ]
  },
  {
   "cell_type": "code",
   "execution_count": 9,
   "id": "03d74cc8-6540-440a-94db-d307835b1de0",
   "metadata": {},
   "outputs": [],
   "source": [
    "b = np.array([[1, 2, 3], [4, 5, 6]])"
   ]
  },
  {
   "cell_type": "code",
   "execution_count": 10,
   "id": "df7a3e0b-4274-4823-aa49-412fc9d92d7c",
   "metadata": {},
   "outputs": [
    {
     "data": {
      "text/plain": [
       "(2, 3)"
      ]
     },
     "execution_count": 10,
     "metadata": {},
     "output_type": "execute_result"
    }
   ],
   "source": [
    "b.shape"
   ]
  },
  {
   "cell_type": "code",
   "execution_count": 11,
   "id": "12dd8e66-0c7d-4b2d-86b5-e2d25d57e744",
   "metadata": {},
   "outputs": [
    {
     "data": {
      "text/plain": [
       "2"
      ]
     },
     "execution_count": 11,
     "metadata": {},
     "output_type": "execute_result"
    }
   ],
   "source": [
    "b.ndim"
   ]
  },
  {
   "cell_type": "code",
   "execution_count": 12,
   "id": "83b9cd82-f159-4d07-be00-7ee0bd7129c4",
   "metadata": {},
   "outputs": [
    {
     "data": {
      "text/plain": [
       "6"
      ]
     },
     "execution_count": 12,
     "metadata": {},
     "output_type": "execute_result"
    }
   ],
   "source": [
    "b.size"
   ]
  },
  {
   "cell_type": "code",
   "execution_count": 26,
   "id": "1d2e3966-eaa6-4d9d-8cc8-d3f0f93ce813",
   "metadata": {},
   "outputs": [],
   "source": [
    "c = np.array([\n",
    "    [[1, 2, 3], \n",
    "     [4, 5, 6]], \n",
    "    \n",
    "    [[7, 8, 9], \n",
    "     [10, 11, 12]]\n",
    "])"
   ]
  },
  {
   "cell_type": "code",
   "execution_count": 16,
   "id": "a99284a2-de67-427a-a5c7-80369a78e101",
   "metadata": {},
   "outputs": [
    {
     "data": {
      "text/plain": [
       "(2, 2, 3)"
      ]
     },
     "execution_count": 16,
     "metadata": {},
     "output_type": "execute_result"
    }
   ],
   "source": [
    "c.shape"
   ]
  },
  {
   "cell_type": "code",
   "execution_count": 17,
   "id": "5ccb7b18-9790-4208-bb79-646b1a7def11",
   "metadata": {},
   "outputs": [
    {
     "data": {
      "text/plain": [
       "array([[1, 2, 3],\n",
       "       [4, 5, 6]])"
      ]
     },
     "execution_count": 17,
     "metadata": {},
     "output_type": "execute_result"
    }
   ],
   "source": [
    "c[0]"
   ]
  },
  {
   "cell_type": "code",
   "execution_count": 18,
   "id": "1f5d3150-5a3b-4578-96f3-aed32eae021d",
   "metadata": {},
   "outputs": [
    {
     "data": {
      "text/plain": [
       "array([[ 1,  4],\n",
       "       [ 7, 10]])"
      ]
     },
     "execution_count": 18,
     "metadata": {},
     "output_type": "execute_result"
    }
   ],
   "source": [
    "c[:, :, 0]"
   ]
  },
  {
   "cell_type": "code",
   "execution_count": 20,
   "id": "567ac7b9-6e5f-4ee3-8d1e-6c7c5ea616b6",
   "metadata": {},
   "outputs": [
    {
     "data": {
      "text/plain": [
       "78"
      ]
     },
     "execution_count": 20,
     "metadata": {},
     "output_type": "execute_result"
    }
   ],
   "source": [
    "c.sum()    "
   ]
  },
  {
   "cell_type": "code",
   "execution_count": 21,
   "id": "3b1396f1-943a-4874-b83d-280d6df6691f",
   "metadata": {},
   "outputs": [
    {
     "data": {
      "text/plain": [
       "3.452052529534663"
      ]
     },
     "execution_count": 21,
     "metadata": {},
     "output_type": "execute_result"
    }
   ],
   "source": [
    "c.std()"
   ]
  },
  {
   "cell_type": "code",
   "execution_count": 22,
   "id": "f7586d75-416e-4505-b27c-d111718d2a05",
   "metadata": {},
   "outputs": [
    {
     "data": {
      "text/plain": [
       "6.5"
      ]
     },
     "execution_count": 22,
     "metadata": {},
     "output_type": "execute_result"
    }
   ],
   "source": [
    "c.mean()"
   ]
  },
  {
   "cell_type": "code",
   "execution_count": 23,
   "id": "e6987063-ac09-46d4-b22d-cbe1ae63b181",
   "metadata": {},
   "outputs": [
    {
     "data": {
      "text/plain": [
       "11.916666666666666"
      ]
     },
     "execution_count": 23,
     "metadata": {},
     "output_type": "execute_result"
    }
   ],
   "source": [
    "c.var()"
   ]
  },
  {
   "cell_type": "code",
   "execution_count": 24,
   "id": "f4eb6bbb-5431-47a1-85c2-f5ab6402e71b",
   "metadata": {},
   "outputs": [
    {
     "data": {
      "text/plain": [
       "array([[ 5,  7,  9],\n",
       "       [17, 19, 21]])"
      ]
     },
     "execution_count": 24,
     "metadata": {},
     "output_type": "execute_result"
    }
   ],
   "source": [
    "c.sum(axis = 1)"
   ]
  },
  {
   "cell_type": "code",
   "execution_count": 25,
   "id": "9ce8399d-d0f4-4057-ae80-35081cadf9e1",
   "metadata": {},
   "outputs": [
    {
     "data": {
      "text/plain": [
       "array([[ 8, 10, 12],\n",
       "       [14, 16, 18]])"
      ]
     },
     "execution_count": 25,
     "metadata": {},
     "output_type": "execute_result"
    }
   ],
   "source": [
    "c.sum(axis = 0)"
   ]
  },
  {
   "cell_type": "code",
   "execution_count": 27,
   "id": "de76c67a-ce18-4516-bedc-2d971098996f",
   "metadata": {},
   "outputs": [
    {
     "data": {
      "text/plain": [
       "array([[ 6, 15],\n",
       "       [24, 33]])"
      ]
     },
     "execution_count": 27,
     "metadata": {},
     "output_type": "execute_result"
    }
   ],
   "source": [
    "c.sum(axis = 2)"
   ]
  },
  {
   "cell_type": "code",
   "execution_count": 28,
   "id": "d0b22025-1ed3-4349-b44c-25f2d00ffc5d",
   "metadata": {},
   "outputs": [
    {
     "data": {
      "text/plain": [
       "array([0, 1, 2, 3, 4])"
      ]
     },
     "execution_count": 28,
     "metadata": {},
     "output_type": "execute_result"
    }
   ],
   "source": [
    "d = np.arange(5)\n",
    "d"
   ]
  },
  {
   "cell_type": "code",
   "execution_count": 29,
   "id": "01f99c8d-31d1-4dcc-ab80-5f4d5518d4fc",
   "metadata": {},
   "outputs": [],
   "source": [
    "d = d + 10"
   ]
  },
  {
   "cell_type": "code",
   "execution_count": 30,
   "id": "0d4c9f1b-04b0-4233-a974-fa4cdb0fece9",
   "metadata": {},
   "outputs": [
    {
     "data": {
      "text/plain": [
       "array([10, 11, 12, 13, 14])"
      ]
     },
     "execution_count": 30,
     "metadata": {},
     "output_type": "execute_result"
    }
   ],
   "source": [
    "d"
   ]
  },
  {
   "cell_type": "code",
   "execution_count": 31,
   "id": "b8df0396-70c3-4731-8013-d19c1dd93763",
   "metadata": {},
   "outputs": [
    {
     "name": "stdout",
     "output_type": "stream",
     "text": [
      "5\n",
      "10\n",
      "15\n",
      "20\n"
     ]
    }
   ],
   "source": [
    "e = np.array([1, 2, 3, 4])\n",
    "for i in e :\n",
    "    print (i * 5)"
   ]
  },
  {
   "cell_type": "code",
   "execution_count": 32,
   "id": "90884d1c-3574-4e39-ba80-32d8dbd4c7c5",
   "metadata": {},
   "outputs": [],
   "source": [
    "f = np.arange(5)"
   ]
  },
  {
   "cell_type": "code",
   "execution_count": 34,
   "id": "2f448fa2-20eb-4e4f-ad61-40950f9e486a",
   "metadata": {},
   "outputs": [
    {
     "data": {
      "text/plain": [
       "array([1, 3])"
      ]
     },
     "execution_count": 34,
     "metadata": {},
     "output_type": "execute_result"
    }
   ],
   "source": [
    "f[[1, 3]]"
   ]
  },
  {
   "cell_type": "code",
   "execution_count": 36,
   "id": "11a94439-d875-4a47-8937-0598ec7d5d71",
   "metadata": {},
   "outputs": [
    {
     "data": {
      "text/plain": [
       "array([0, 2, 4])"
      ]
     },
     "execution_count": 36,
     "metadata": {},
     "output_type": "execute_result"
    }
   ],
   "source": [
    "f[[True, False, True, False, True]]"
   ]
  },
  {
   "cell_type": "code",
   "execution_count": 37,
   "id": "b0a42389-cad7-4cf7-b46f-9b0aa9c5b139",
   "metadata": {},
   "outputs": [
    {
     "data": {
      "text/plain": [
       "array([False, False, False, False,  True])"
      ]
     },
     "execution_count": 37,
     "metadata": {},
     "output_type": "execute_result"
    }
   ],
   "source": [
    "f >= 4"
   ]
  },
  {
   "cell_type": "code",
   "execution_count": 38,
   "id": "4b52d123-a7b9-4694-9605-e34537f6fbf1",
   "metadata": {},
   "outputs": [],
   "source": [
    "g = f >= 3"
   ]
  },
  {
   "cell_type": "code",
   "execution_count": 39,
   "id": "5192a652-51b6-4d87-a66f-a5eb2a8cb9ad",
   "metadata": {},
   "outputs": [
    {
     "data": {
      "text/plain": [
       "array([False, False, False,  True,  True])"
      ]
     },
     "execution_count": 39,
     "metadata": {},
     "output_type": "execute_result"
    }
   ],
   "source": [
    "g"
   ]
  },
  {
   "cell_type": "code",
   "execution_count": 41,
   "id": "3b5d6237-68ec-4d6e-a97f-11755983a59a",
   "metadata": {},
   "outputs": [
    {
     "data": {
      "text/plain": [
       "array([3, 4])"
      ]
     },
     "execution_count": 41,
     "metadata": {},
     "output_type": "execute_result"
    }
   ],
   "source": [
    "f[g]"
   ]
  },
  {
   "cell_type": "code",
   "execution_count": 44,
   "id": "5eaf0dc7-8e68-4ae7-9e29-f33483546b03",
   "metadata": {},
   "outputs": [
    {
     "data": {
      "text/plain": [
       "array([3, 4])"
      ]
     },
     "execution_count": 44,
     "metadata": {},
     "output_type": "execute_result"
    }
   ],
   "source": [
    "f[f > f.mean()]"
   ]
  },
  {
   "cell_type": "code",
   "execution_count": 45,
   "id": "bd5dcff1-6c3c-481e-8b5b-784b55345cff",
   "metadata": {},
   "outputs": [
    {
     "data": {
      "text/plain": [
       "array([0.88829269, 0.84769365])"
      ]
     },
     "execution_count": 45,
     "metadata": {},
     "output_type": "execute_result"
    }
   ],
   "source": [
    "np.random.random(size = 2)"
   ]
  },
  {
   "cell_type": "code",
   "execution_count": 46,
   "id": "f15aa14d-9818-414a-a1ab-2f0fd5397d30",
   "metadata": {},
   "outputs": [
    {
     "data": {
      "text/plain": [
       "array([-0.00624271,  0.69905165])"
      ]
     },
     "execution_count": 46,
     "metadata": {},
     "output_type": "execute_result"
    }
   ],
   "source": [
    "np.random.normal(size = 2)"
   ]
  },
  {
   "cell_type": "code",
   "execution_count": 47,
   "id": "8dc69d2f-0612-43f4-a844-82545dc68c9b",
   "metadata": {},
   "outputs": [
    {
     "data": {
      "text/plain": [
       "array([[0.10174859, 0.44919202, 0.21506627, 0.00744797],\n",
       "       [0.92264255, 0.61787238, 0.52585639, 0.85462578]])"
      ]
     },
     "execution_count": 47,
     "metadata": {},
     "output_type": "execute_result"
    }
   ],
   "source": [
    "np.random.rand(2, 4)"
   ]
  },
  {
   "cell_type": "code",
   "execution_count": 49,
   "id": "452478a9-566c-475e-b5a5-5211a49201ae",
   "metadata": {},
   "outputs": [
    {
     "data": {
      "text/plain": [
       "array([[0., 0.]])"
      ]
     },
     "execution_count": 49,
     "metadata": {},
     "output_type": "execute_result"
    }
   ],
   "source": [
    "np.zeros([1, 2])"
   ]
  },
  {
   "cell_type": "code",
   "execution_count": 50,
   "id": "2b73ccdc-e213-4913-88a7-61422b7a6012",
   "metadata": {},
   "outputs": [
    {
     "data": {
      "text/plain": [
       "array([[1., 1., 1.],\n",
       "       [1., 1., 1.]])"
      ]
     },
     "execution_count": 50,
     "metadata": {},
     "output_type": "execute_result"
    }
   ],
   "source": [
    "np.ones([2, 3])"
   ]
  },
  {
   "cell_type": "code",
   "execution_count": null,
   "id": "14a0d037-3aa4-45c1-b7c6-f8a2424b0b48",
   "metadata": {},
   "outputs": [],
   "source": []
  }
 ],
 "metadata": {
  "kernelspec": {
   "display_name": "Python 3 (ipykernel)",
   "language": "python",
   "name": "python3"
  },
  "language_info": {
   "codemirror_mode": {
    "name": "ipython",
    "version": 3
   },
   "file_extension": ".py",
   "mimetype": "text/x-python",
   "name": "python",
   "nbconvert_exporter": "python",
   "pygments_lexer": "ipython3",
   "version": "3.9.7"
  }
 },
 "nbformat": 4,
 "nbformat_minor": 5
}
